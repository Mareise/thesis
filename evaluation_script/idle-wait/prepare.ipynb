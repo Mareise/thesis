{
 "cells": [
  {
   "cell_type": "code",
   "id": "initial_id",
   "metadata": {
    "collapsed": true,
    "ExecuteTime": {
     "end_time": "2025-09-14T10:00:20.266732Z",
     "start_time": "2025-09-14T10:00:20.055045Z"
    }
   },
   "source": [
    "import pandas as pd\n",
    "import glob\n",
    "import os"
   ],
   "outputs": [],
   "execution_count": 1
  },
  {
   "metadata": {
    "ExecuteTime": {
     "end_time": "2025-09-14T12:31:22.604600Z",
     "start_time": "2025-09-14T12:31:22.592298Z"
    }
   },
   "cell_type": "code",
   "source": [
    "def prepare(base_folder, run_start_times):\n",
    "    for run_folder, start_time in run_start_times.items():\n",
    "        folder_path = os.path.join(base_folder + \"/raw\", run_folder, \"*.csv\")\n",
    "        csv_files = glob.glob(folder_path)\n",
    "\n",
    "        experiment_start = pd.Timestamp(start_time, tz=\"UTC\")\n",
    "\n",
    "        resource_dfs = []\n",
    "        for file in csv_files:\n",
    "            with open(file, \"r\", encoding=\"utf-8\") as f:\n",
    "                raw_header = f.readline().strip()\n",
    "\n",
    "            if '\"' in raw_header:\n",
    "                # --- Clean header ---\n",
    "                header = raw_header.replace('\"', \"\").replace(\"Time\", \"timestamp\")\n",
    "                columns = header.split(\",\")\n",
    "\n",
    "                # if it is the GPU file, keep first GPU 0\n",
    "                if \"GPU 0\" in columns:\n",
    "                    # rename the first GPU 0 to gpu_0\n",
    "                    columns[columns.index(\"GPU 0\")] = \"gpu_0\"\n",
    "\n",
    "                # Prefix non-timestamp columns with the file name (without .csv)\n",
    "                file_prefix = os.path.splitext(os.path.basename(file))[0]\n",
    "                columns = [\n",
    "                    c if c == \"timestamp\" else f\"{file_prefix}_{c}\"\n",
    "                    for c in columns\n",
    "                ]\n",
    "\n",
    "                df = pd.read_csv(file, skiprows=1, names=columns)\n",
    "\n",
    "                df.drop(\"gpu_GPU 0\", axis=1, inplace=True, errors=\"ignore\")\n",
    "\n",
    "                # Convert to UTC\n",
    "                df[\"timestamp\"] = pd.to_datetime(df[\"timestamp\"], errors=\"coerce\")\n",
    "                df[\"timestamp\"] = df[\"timestamp\"].dt.tz_localize(\"UTC\")\n",
    "\n",
    "                df = df.set_index(\"timestamp\")\n",
    "                df = df[~df.index.duplicated(keep='first')]\n",
    "                resource_dfs.append(df)\n",
    "            else:\n",
    "                df = pd.read_csv(file)\n",
    "\n",
    "                # take response time of last row\n",
    "                last_timestamp = df['timestamp'].iloc[-1]\n",
    "                last_timestamp = pd.to_datetime(last_timestamp).tz_localize('UTC')\n",
    "                # knative pod reconciliation can take some time, so we add 30s to the last timestamp\n",
    "                last_timestamp_plus_30 = last_timestamp + pd.Timedelta(seconds=30)\n",
    "                time_difference = last_timestamp_plus_30 - experiment_start\n",
    "                with open(os.path.join(base_folder, f\"{run_folder}_total-time.txt\"), \"w\") as f:\n",
    "                    f.write(f\"Total Time (s),{time_difference.round('1s').total_seconds()}\\n\")\n",
    "\n",
    "                df.drop(columns=[\"timestamp\"], inplace=True)\n",
    "\n",
    "                df.replace(-1.0, pd.NA, inplace=True)\n",
    "                df.to_csv(os.path.join(base_folder, f\"{run_folder}_response_times.csv\"))\n",
    "\n",
    "        # Global timeline for this run\n",
    "        all_end = max(df.index.max() for df in resource_dfs)\n",
    "        time_index = pd.date_range(experiment_start, all_end, freq=\"1s\", tz=\"UTC\")\n",
    "\n",
    "        aligned_resource_dfs = [df.reindex(time_index) for df in resource_dfs]\n",
    "        final_resource_df = pd.concat(aligned_resource_dfs, axis=1)\n",
    "\n",
    "        # Replace absolute timestamps with a step counter in seconds\n",
    "        final_resource_df = final_resource_df.reset_index(drop=True)\n",
    "        final_resource_df.index.name = \"step\"  # step in seconds from start\n",
    "\n",
    "        # Save aligned CSV per run\n",
    "        final_resource_df.to_csv(os.path.join(base_folder, f\"{run_folder}_resources.csv\"))"
   ],
   "id": "a1133f8aa5c43304",
   "outputs": [],
   "execution_count": 6
  },
  {
   "metadata": {
    "ExecuteTime": {
     "end_time": "2025-09-14T12:31:26.130559Z",
     "start_time": "2025-09-14T12:31:25.989989Z"
    }
   },
   "cell_type": "code",
   "source": [
    "run_start_times_gpu = {\n",
    "    \"run-1\": \"2025-09-13T10:27:24\",\n",
    "    \"run-2\": \"2025-09-13T10:36:13\",\n",
    "    \"run-3\": \"2025-09-13T10:44:58\",\n",
    "    \"run-4\": \"2025-09-13T10:53:44\",\n",
    "    \"run-5\": \"2025-09-13T11:02:29\",\n",
    "}\n",
    "run_start_times_cpu = {\n",
    "    \"run-1\": \"2025-09-13T09:33:50\",\n",
    "    \"run-2\": \"2025-09-13T09:42:18\",\n",
    "    \"run-3\": \"2025-09-13T09:50:57\",\n",
    "    \"run-4\": \"2025-09-13T09:59:36\",\n",
    "    \"run-5\": \"2025-09-13T10:08:13\",\n",
    "}\n",
    "run_start_times_auto = {\n",
    "    \"run-1\": \"2025-09-13T12:56:19\",\n",
    "    \"run-2\": \"2025-09-13T17:53:50\",\n",
    "    \"run-3\": \"2025-09-13T18:08:09\",\n",
    "    \"run-4\": \"2025-09-13T18:17:09\",\n",
    "    \"run-5\": \"2025-09-13T18:31:00\",\n",
    "}\n",
    "\n",
    "prepare(\"./data/gpu\", run_start_times_gpu)\n",
    "prepare(\"./data/cpu\", run_start_times_cpu)\n",
    "prepare(\"./data/auto\", run_start_times_auto)\n"
   ],
   "id": "5266db6c2cabb2ee",
   "outputs": [],
   "execution_count": 7
  }
 ],
 "metadata": {
  "kernelspec": {
   "display_name": "Python 3",
   "language": "python",
   "name": "python3"
  },
  "language_info": {
   "codemirror_mode": {
    "name": "ipython",
    "version": 2
   },
   "file_extension": ".py",
   "mimetype": "text/x-python",
   "name": "python",
   "nbconvert_exporter": "python",
   "pygments_lexer": "ipython2",
   "version": "2.7.6"
  }
 },
 "nbformat": 4,
 "nbformat_minor": 5
}
