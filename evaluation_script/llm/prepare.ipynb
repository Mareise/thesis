{
 "cells": [
  {
   "cell_type": "code",
   "id": "initial_id",
   "metadata": {
    "collapsed": true,
    "ExecuteTime": {
     "end_time": "2025-09-11T12:23:32.956468Z",
     "start_time": "2025-09-11T12:23:32.775614Z"
    }
   },
   "source": [
    "import pandas as pd\n",
    "import glob\n",
    "import os"
   ],
   "outputs": [],
   "execution_count": 2
  },
  {
   "metadata": {
    "ExecuteTime": {
     "end_time": "2025-09-11T12:23:34.174756Z",
     "start_time": "2025-09-11T12:23:34.168675Z"
    }
   },
   "cell_type": "code",
   "source": [
    "def prepare(base_folder, run_start_times):\n",
    "    for run_folder, start_time in run_start_times.items():\n",
    "        folder_path = os.path.join(base_folder + \"/raw\", run_folder, \"*.csv\")\n",
    "        csv_files = glob.glob(folder_path)\n",
    "\n",
    "        experiment_start = pd.Timestamp(start_time, tz=\"UTC\")\n",
    "\n",
    "        resource_dfs = []\n",
    "        for file in csv_files:\n",
    "            with open(file, \"r\", encoding=\"utf-8\") as f:\n",
    "                raw_header = f.readline().strip()\n",
    "\n",
    "            if '\"' in raw_header:\n",
    "                # --- Clean header ---\n",
    "                header = raw_header.replace('\"', \"\").replace(\"Time\", \"timestamp\")\n",
    "                columns = header.split(\",\")\n",
    "\n",
    "                # if it is the GPU file, keep first GPU 0\n",
    "                if \"GPU 0\" in columns:\n",
    "                    # rename the first GPU 0 to gpu_0\n",
    "                    columns[columns.index(\"GPU 0\")] = \"gpu_0\"\n",
    "\n",
    "                # Prefix non-timestamp columns with the file name (without .csv)\n",
    "                file_prefix = os.path.splitext(os.path.basename(file))[0]\n",
    "                columns = [\n",
    "                    c if c == \"timestamp\" else f\"{file_prefix}_{c}\"\n",
    "                    for c in columns\n",
    "                ]\n",
    "\n",
    "                df = pd.read_csv(file, skiprows=1, names=columns)\n",
    "\n",
    "                df.drop(\"gpu_GPU 0\", axis=1, inplace=True, errors=\"ignore\")\n",
    "\n",
    "                # Convert to UTC\n",
    "                df[\"timestamp\"] = pd.to_datetime(df[\"timestamp\"], errors=\"coerce\")\n",
    "                df[\"timestamp\"] = df[\"timestamp\"].dt.tz_localize(\"Europe/Berlin\").dt.tz_convert(\"UTC\")\n",
    "\n",
    "                df = df.set_index(\"timestamp\")\n",
    "                df = df[~df.index.duplicated(keep='first')]\n",
    "                resource_dfs.append(df)\n",
    "            else:\n",
    "                df = pd.read_csv(file)\n",
    "                df.drop(columns=[\"timestamp\"], inplace=True)\n",
    "                df.to_csv(os.path.join(base_folder, f\"{run_folder}_response_times.csv\"))\n",
    "\n",
    "        # Global timeline for this run\n",
    "        all_end = max(df.index.max() for df in resource_dfs)\n",
    "        time_index = pd.date_range(experiment_start, all_end, freq=\"1s\", tz=\"UTC\")\n",
    "\n",
    "        aligned_resource_dfs = [df.reindex(time_index) for df in resource_dfs]\n",
    "        final_resource_df = pd.concat(aligned_resource_dfs, axis=1)\n",
    "\n",
    "        # Replace absolute timestamps with a step counter in seconds\n",
    "        final_resource_df = final_resource_df.reset_index(drop=True)\n",
    "        final_resource_df.index.name = \"step\"  # step in seconds from start\n",
    "\n",
    "        # Save aligned CSV per run\n",
    "        final_resource_df.to_csv(os.path.join(base_folder, f\"{run_folder}_resources.csv\"))"
   ],
   "id": "a1133f8aa5c43304",
   "outputs": [],
   "execution_count": 3
  },
  {
   "metadata": {
    "ExecuteTime": {
     "end_time": "2025-09-11T12:33:44.242206Z",
     "start_time": "2025-09-11T12:33:44.133187Z"
    }
   },
   "cell_type": "code",
   "source": [
    "run_start_times_cpu = {\n",
    "    \"run-1\": \"2025-09-03T13:23:15\",\n",
    "    \"run-2\": \"2025-09-03T13:38:37\",\n",
    "    \"run-3\": \"2025-09-03T13:56:21\",\n",
    "    \"run-4\": \"2025-09-03T14:11:11\",\n",
    "    \"run-5\": \"2025-09-03T14:26:26\",\n",
    "}\n",
    "run_start_times_gpu = {\n",
    "    \"run-1\": \"2025-09-03T11:31:04\",\n",
    "    \"run-2\": \"2025-09-03T11:35:57\",\n",
    "    \"run-3\": \"2025-09-03T11:40:41\",\n",
    "    \"run-4\": \"2025-09-03T12:01:06\",\n",
    "    \"run-5\": \"2025-09-03T12:04:36\",\n",
    "}\n",
    "run_start_times_auto = {\n",
    "    \"run-1\": \"2025-09-03T09:25:19\",\n",
    "    \"run-2\": \"2025-09-03T09:32:46\",\n",
    "    \"run-3\": \"2025-09-03T09:38:55\",\n",
    "    \"run-4\": \"2025-09-03T09:45:04\",\n",
    "    \"run-5\": \"2025-09-03T09:51:55\",\n",
    "}\n",
    "\n",
    "prepare(\"./data/cpu\", run_start_times_cpu)\n",
    "prepare(\"./data/gpu\", run_start_times_gpu)\n",
    "prepare(\"./data/auto\", run_start_times_auto)\n"
   ],
   "id": "5266db6c2cabb2ee",
   "outputs": [],
   "execution_count": 6
  }
 ],
 "metadata": {
  "kernelspec": {
   "display_name": "Python 3",
   "language": "python",
   "name": "python3"
  },
  "language_info": {
   "codemirror_mode": {
    "name": "ipython",
    "version": 2
   },
   "file_extension": ".py",
   "mimetype": "text/x-python",
   "name": "python",
   "nbconvert_exporter": "python",
   "pygments_lexer": "ipython2",
   "version": "2.7.6"
  }
 },
 "nbformat": 4,
 "nbformat_minor": 5
}
